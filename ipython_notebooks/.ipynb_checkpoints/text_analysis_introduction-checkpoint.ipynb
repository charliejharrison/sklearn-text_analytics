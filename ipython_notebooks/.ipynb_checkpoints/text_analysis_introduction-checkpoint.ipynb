{
 "cells": [
  {
   "cell_type": "markdown",
   "metadata": {},
   "source": [
    "## Loading the 20 newsgroups dataset"
   ]
  },
  {
   "cell_type": "code",
   "execution_count": 1,
   "metadata": {
    "collapsed": true
   },
   "outputs": [],
   "source": [
    "categories = ['alt.atheism', 'soc.religion.christian', \n",
    "              'comp.graphics', 'sci.med']"
   ]
  },
  {
   "cell_type": "code",
   "execution_count": 3,
   "metadata": {
    "collapsed": true
   },
   "outputs": [],
   "source": [
    "from sklearn.datasets import fetch_20newsgroups\n",
    "twenty_train = fetch_20newsgroups(subset='train',\n",
    "                                  categories=categories,\n",
    "                                  shuffle=True,\n",
    "                                  random_state=42)"
   ]
  },
  {
   "cell_type": "code",
   "execution_count": 4,
   "metadata": {
    "collapsed": false
   },
   "outputs": [
    {
     "data": {
      "text/plain": [
       "sklearn.datasets.base.Bunch"
      ]
     },
     "execution_count": 4,
     "metadata": {},
     "output_type": "execute_result"
    }
   ],
   "source": [
    "type(twenty_train)"
   ]
  },
  {
   "cell_type": "code",
   "execution_count": 5,
   "metadata": {
    "collapsed": false
   },
   "outputs": [
    {
     "data": {
      "text/plain": [
       "['alt.atheism', 'comp.graphics', 'sci.med', 'soc.religion.christian']"
      ]
     },
     "execution_count": 5,
     "metadata": {},
     "output_type": "execute_result"
    }
   ],
   "source": [
    "twenty_train.target_names"
   ]
  },
  {
   "cell_type": "code",
   "execution_count": 116,
   "metadata": {
    "collapsed": false
   },
   "outputs": [],
   "source": [
    "atheist_docs = np.array(twenty_train.data)[twenty_train.target == 0]"
   ]
  },
  {
   "cell_type": "code",
   "execution_count": 6,
   "metadata": {
    "collapsed": false
   },
   "outputs": [
    {
     "data": {
      "text/plain": [
       "2257"
      ]
     },
     "execution_count": 6,
     "metadata": {},
     "output_type": "execute_result"
    }
   ],
   "source": [
    "len(twenty_train.data)"
   ]
  },
  {
   "cell_type": "code",
   "execution_count": 15,
   "metadata": {
    "collapsed": false
   },
   "outputs": [
    {
     "name": "stdout",
     "output_type": "stream",
     "text": [
      "/Users/wah/scikit_learn_data/20news_home/20news-bydate-train/comp.graphics/38440 \n",
      "*****\n",
      " comp.graphics \n",
      "*****\n",
      " From: sd345@city.ac.uk (Michael Collier)\n",
      "Subject: Converting images to HP LaserJet III?\n",
      "Nntp-Posting-Host: hampton\n",
      "Organization: The City University\n",
      "Lines: 14\n",
      "\n",
      "Does anyone know of a good way (standard PC application/PD utility) to\n",
      "convert tif/img/tga files into LaserJet III format.  We would also like to\n",
      "do the same, converting to HPGL (HP plotter) files.\n",
      "\n",
      "Please email any response.\n",
      "\n",
      "Is this the correct group?\n",
      "\n",
      "Thanks in advance.  Michael.\n",
      "-- \n",
      "Michael Collier (Programmer)                 The Computer Unit,\n",
      "Email: M.P.Collier@uk.ac.city                The City University,\n",
      "Tel: 071 477-8000 x3769                      London,\n",
      "Fax: 071 477-8565                            EC1V 0HB.\n",
      "\n"
     ]
    }
   ],
   "source": [
    "file_ind = 0\n",
    "print(twenty_train.filenames[file_ind],\n",
    "      \"\\n*****\\n\",\n",
    "      twenty_train.target_names[twenty_train.target[file_ind]],\n",
    "      \"\\n*****\\n\",\n",
    "      twenty_train.data[file_ind])"
   ]
  },
  {
   "cell_type": "markdown",
   "metadata": {},
   "source": [
    "## Extracting features from text files"
   ]
  },
  {
   "cell_type": "code",
   "execution_count": 17,
   "metadata": {
    "collapsed": false
   },
   "outputs": [
    {
     "data": {
      "text/plain": [
       "(2257, 35788)"
      ]
     },
     "execution_count": 17,
     "metadata": {},
     "output_type": "execute_result"
    }
   ],
   "source": [
    "from sklearn.feature_extraction.text import CountVectorizer\n",
    "\n",
    "count_vect = CountVectorizer()\n",
    "X_train_counts = count_vect.fit_transform(twenty_train.data)\n",
    "X_train_counts.shape"
   ]
  },
  {
   "cell_type": "code",
   "execution_count": 19,
   "metadata": {
    "collapsed": false
   },
   "outputs": [
    {
     "data": {
      "text/plain": [
       "scipy.sparse.csr.csr_matrix"
      ]
     },
     "execution_count": 19,
     "metadata": {},
     "output_type": "execute_result"
    }
   ],
   "source": [
    "type(X_train_counts)"
   ]
  },
  {
   "cell_type": "code",
   "execution_count": 44,
   "metadata": {
    "collapsed": false
   },
   "outputs": [
    {
     "data": {
      "text/plain": [
       "35788"
      ]
     },
     "execution_count": 44,
     "metadata": {},
     "output_type": "execute_result"
    }
   ],
   "source": [
    "vocab = set(count_vect.vocabulary_.keys())\n",
    "len(vocab)"
   ]
  },
  {
   "cell_type": "markdown",
   "metadata": {},
   "source": [
    "### Stopwords\n",
    "By default, `CountVectorizer` includes all stopwords"
   ]
  },
  {
   "cell_type": "code",
   "execution_count": 36,
   "metadata": {
    "collapsed": false
   },
   "outputs": [
    {
     "data": {
      "text/plain": [
       "318"
      ]
     },
     "execution_count": 36,
     "metadata": {},
     "output_type": "execute_result"
    }
   ],
   "source": [
    "from sklearn.feature_extraction import stop_words\n",
    "stops = stop_words.ENGLISH_STOP_WORDS"
   ]
  },
  {
   "cell_type": "code",
   "execution_count": 37,
   "metadata": {
    "collapsed": false
   },
   "outputs": [
    {
     "data": {
      "text/plain": [
       "305"
      ]
     },
     "execution_count": 37,
     "metadata": {},
     "output_type": "execute_result"
    }
   ],
   "source": [
    "len(vocab & stops)"
   ]
  },
  {
   "cell_type": "markdown",
   "metadata": {},
   "source": [
    "Passing `'english'` or a list of words to the `stop_words` parameter changes this.  "
   ]
  },
  {
   "cell_type": "code",
   "execution_count": 42,
   "metadata": {
    "collapsed": false
   },
   "outputs": [
    {
     "data": {
      "text/plain": [
       "(2257, 35483)"
      ]
     },
     "execution_count": 42,
     "metadata": {},
     "output_type": "execute_result"
    }
   ],
   "source": [
    "count_vect_with_stopwords = CountVectorizer(stop_words='english')\n",
    "X_train_counts_stopped = count_vect_with_stopwords.fit_transform(twenty_train.data)\n",
    "X_train_counts_stopped.shape"
   ]
  },
  {
   "cell_type": "code",
   "execution_count": 43,
   "metadata": {
    "collapsed": false
   },
   "outputs": [
    {
     "data": {
      "text/plain": [
       "0"
      ]
     },
     "execution_count": 43,
     "metadata": {},
     "output_type": "execute_result"
    }
   ],
   "source": [
    "vocab_stop = set(count_vect_with_stopwords.vocabulary_.keys())\n",
    "len(vocab_stop & stops)"
   ]
  },
  {
   "cell_type": "markdown",
   "metadata": {},
   "source": [
    "Another option is automatically detecting corpus-specific stopwords by filtering on the TF-IDF score.  Reducing the `max_df` parameter filters out words that are very common across documents, and the `min_df` parameter can be used to avoid overfitting (by ignoring words that appear in very few documents).  Note that both parameters can take a `float` in the range `[0.0, 1.0]` OR an `int`."
   ]
  },
  {
   "cell_type": "code",
   "execution_count": 47,
   "metadata": {
    "collapsed": false
   },
   "outputs": [
    {
     "data": {
      "text/plain": [
       "(2257, 18484)"
      ]
     },
     "execution_count": 47,
     "metadata": {},
     "output_type": "execute_result"
    }
   ],
   "source": [
    "count_vect_tfidf = CountVectorizer(max_df=0.8, \n",
    "                                   min_df=2)\n",
    "X_train_counts_tfidf = count_vect_tfidf.fit_transform(twenty_train.data)\n",
    "X_train_counts_tfidf.shape"
   ]
  },
  {
   "cell_type": "code",
   "execution_count": 50,
   "metadata": {
    "collapsed": false
   },
   "outputs": [
    {
     "data": {
      "text/plain": [
       "16865"
      ]
     },
     "execution_count": 50,
     "metadata": {},
     "output_type": "execute_result"
    }
   ],
   "source": [
    "count_vect.vocabulary_['horse']"
   ]
  },
  {
   "cell_type": "code",
   "execution_count": 69,
   "metadata": {
    "collapsed": true
   },
   "outputs": [],
   "source": [
    "import scipy\n",
    "import numpy as np"
   ]
  },
  {
   "cell_type": "code",
   "execution_count": 65,
   "metadata": {
    "collapsed": false
   },
   "outputs": [],
   "source": [
    "horses = scipy.sparse.find(X_train_counts[:, 16865])"
   ]
  },
  {
   "cell_type": "code",
   "execution_count": 68,
   "metadata": {
    "collapsed": false
   },
   "outputs": [
    {
     "data": {
      "text/plain": [
       "array([ 218,  826, 1762, 1779, 1789, 1833, 1986, 2129], dtype=int32)"
      ]
     },
     "execution_count": 68,
     "metadata": {},
     "output_type": "execute_result"
    }
   ],
   "source": [
    "horses[0]"
   ]
  },
  {
   "cell_type": "code",
   "execution_count": 88,
   "metadata": {
    "collapsed": true
   },
   "outputs": [
    {
     "name": "stdout",
     "output_type": "stream",
     "text": [
      "From: eb3@world.std.com (Edwin Barkdoll)\n",
      "Subject: Re: Blindsight\n",
      "Organization: The World Public Access UNIX, Brookline, MA\n",
      "Lines: 64\n",
      "\n",
      "In article <19382@pitt.UUCP> geb@cs.pitt.edu (Gordon Banks) writes:\n",
      ">In article <werner-240393161954@tol7mac15.soe.berkeley.edu> werner@soe.berkeley.edu (John Werner) writes:\n",
      ">>In article <19213@pitt.UUCP>, geb@cs.pitt.edu (Gordon Banks) wrote:\n",
      ">>> \n",
      ">>> Explain.  I thought there were 3 types of cones, equivalent to RGB.\n",
      ">>\n",
      ">>You're basically right, but I think there are just 2 types.  One is\n",
      ">>sensitive to red and green, and the other is sensitive to blue and yellow. \n",
      ">>This is why the two most common kinds of color-blindness are red-green and\n",
      ">>blue-yellow.\n",
      ">>\n",
      ">\n",
      ">Yes, I remember that now.  Well, in that case, the cones are indeed\n",
      ">color sensitive, contrary to what the original respondent had claimed.\n",
      "\n",
      "\n",
      "\tI'm not sure who the \"original respondent\" was but to\n",
      "reiterate cones respond to particular portions of the spectrum, just\n",
      "as _rods_ respond to certain parts of the visible spectrum (bluegreen\n",
      "in our case, reddish in certain amphibia), just as the hoseshoe crab\n",
      "_Limulus polyphemus_ photoreceptors respond to a certain portion of\n",
      "the spectrum etc.  It is a common misconception to confound wavelength\n",
      "specificity with being color sensitive, however the two are not\n",
      "synonymous.\n",
      "\tSo in sum and to beat a dead horse:\n",
      "\t(1) When the outputs of a cone are matched for number of\n",
      "absorbed photons _irrespective_ of the absorbed photons wavelength,\n",
      "the cone outputs are _indistinguishable_.\n",
      "\t(2) Cones are simply detectors with different spectral\n",
      "sensitivities and are not any more \"color sensitive\" than are rods,\n",
      "ommatidia or other photoreceptors.\n",
      "\t(3) Color vision arises because outputs of receptors which\n",
      "sample different parts of the spectrum (cones in this case) are\n",
      "\"processed centrally\".  (The handwave is intentional)\n",
      "\n",
      "\tI've worked and published research on rods and cones for over\n",
      "10 years so the adherence to the belief that cones can \"detect color\"\n",
      "is frustrating.  But don't take my word for it.  I'm reposting a few\n",
      "excellent articles together with two rather good but oldish color\n",
      "vision texts.\n",
      "\n",
      "The texts:\n",
      "Robert Boynton (1979) _Human Color Vision_ Holt, Rhiehart and Winston\n",
      "\n",
      "Leo M. Hurvich (1981) _Color Vision_, Sinauer Associates.\n",
      "\n",
      "\n",
      "The original articles:\n",
      "Baylor and Hodgkin (1973) Detection and resolution of visual stimuli by\n",
      "turtle phoreceptors, _J. Physiol._ 234 pp163-198.\n",
      "\n",
      "Baylor Lamb and Yau (1978) Reponses of retinal rods to single photons.\n",
      "_J. Physiol._ 288 pp613-634.\n",
      "\n",
      "Schnapf et al. (1990) Visual transduction in cones of the monkey\n",
      "_Macaca fascicularis_. J. Physiol. 427 pp681-713.\n",
      "\n",
      "-- \n",
      "Edwin Barkdoll\n",
      "barkdoll@lepomis.psych.upenn.edu\n",
      "eb3@world.std.com\n",
      "-- \n",
      "Edwin Barkdoll\n",
      "eb3@world.std.com\n",
      " From: k053730@hobbes.kzoo.edu (Philip G. Sells)\n",
      "Subject: Hebrew grammar texts--choose English or German?\n",
      "Organization: Kalamazoo College Alumni Association\n",
      "Lines: 28\n",
      "\n",
      "Greetings,\n",
      "\n",
      "Probably a tired old horse, but...  maybe with a slightly different\n",
      "twist.  I wanted to know if there are any good English-language texts\n",
      "for learning ancient Hebrew, and how these compare with German\n",
      "educational texts qualitywise, if anybody has an idea.  I can't figure\n",
      "out if I should buy one here for later study or wait until I get back to\n",
      "the U.S.\n",
      "\n",
      "Something I find interesting about studying theology in Germany is the\n",
      "fact that the students get their ancient language-learning out of the\n",
      "way early [I'm not a theology student, but I spend a lot of time with\n",
      "such folks] in their careers.  They take the first two years or so to just\n",
      "do Greek and Latin and Hebrew [possibly Aramaic, too--who knows].\n",
      "What's it like at divinity schools or seminaries in the States?  Is\n",
      "there a lot of language instruction done?  I really don't have a basis\n",
      "for comparison.\n",
      "\n",
      "Regards, Phil\n",
      "-- \n",
      "Philip Sells                 Is anything too hard for the LORD?\n",
      "k053730@hobbes.kzoo.edu           --Gen. 18:14\n",
      "\n",
      "[For better of worse, we don't have the tradition of classical\n",
      "education in the U.S., so generally if a seminary believes students\n",
      "should know Greek, they have to teach it.  It's common for seminaries\n",
      "to require at least a semester each of Hebrew and Greek, though of\n",
      "course more is required for serious scholarship.  --clh]\n",
      " From: pete@smtl.demon.co.uk (Pete Phillips)\n",
      "Subject: Nebulisers and particle Size\n",
      "X-Address: Bridgend, S. Wales, CF31 1JP\n",
      "Reply-To: pete@smtl.demon.co.uk\n",
      "Organization: Surgical Materials Testing Laboratory\n",
      "X-Fax: +44 656 667291\n",
      "X-Phone: +44 656 652166\n",
      "Lines: 25\n",
      "\n",
      "\n",
      "Hi,\n",
      "\n",
      "we are just completing a project on nebuliser performance, and have a\n",
      "wealth of data on particle size and output which we are going to use\n",
      "to adjudicate a contract next week.\n",
      "\n",
      "Although the output data is easy for us to present, there seems to be\n",
      "little concensus on the optimum diameter of the nebulised droplets for\n",
      "straightforward inhalation therapy (eg: for asthmatics).\n",
      "\n",
      "Some say that the droplets must be smaller than 5 microns, whilst\n",
      "others say that if they are too small they will not be effective.\n",
      "\n",
      "Anyone up on this topic who could summarise the current status ?\n",
      "\n",
      "Cheers,\n",
      "Pete\n",
      "-- \n",
      "Pete Phillips, Deputy Director, Surgical Materials Testing Lab, \n",
      "Bridgend General Hospital, S. Wales. 0656-652166 pete@smtl.demon.co.uk   \n",
      "--\n",
      "\"The Four Horse Oppressors of the Apocalypse were Nutritional\n",
      "Deprivation, State of Belligerency, Widespread Transmittable Condition\n",
      "and Terminal Inconvenience\" - Official Politically Correct Dictionary\n",
      " From: wjhovi01@ulkyvx.louisville.edu\n",
      "Subject: Re: Hebrew grammar texts--choose English or German?\n",
      "Organization: University of Louisville\n",
      "Lines: 37\n",
      "\n",
      "Phil Sells writes:\n",
      "\n",
      "> Probably a tired old horse, but...  maybe with a slightly different\n",
      "> twist.  I wanted to know if there are any good English-language texts\n",
      "> for learning ancient Hebrew, and how these compare with German\n",
      "> educational texts qualitywise, if anybody has an idea.  I can't figure\n",
      "> out if I should buy one here for later study or wait until I get back to\n",
      "> the U.S.\n",
      "\n",
      "My impression is that *for advanced work* you will be much better off with\n",
      "German reference works (lexicons, concordances especially).  For a first-time\n",
      "encounter, my *personal* preference would be to deal with a textbook written in\n",
      "my native language.  But if you know German and are in Germany, pick up all the\n",
      "reference books you think you can handle.  (I only know these works by\n",
      "reputation, since my German is most rusty, but I'd look at the following books:\n",
      "Koehler's lexicon, Mandeldern's concordance, the Jenni & Westermann theological\n",
      "dictionary of the OT.)\n",
      "\n",
      "> What's it like at divinity schools or seminaries in the States?  Is\n",
      "> there a lot of language instruction done?  I really don't have a basis\n",
      "> for comparison.\n",
      "\n",
      "The amount of language instruction available at US seminaries varies widely,\n",
      "mostly depending on the denominational heritage of the school.  Presbyterian\n",
      "and Reformed seminaries probably place a lot more emphasis on the biblical\n",
      "languages than others.  (Of course, any divinity school that has a doctoral\n",
      "program in biblical studies is going to have extensive language resources!  But\n",
      "there are quite a few masters-degree-granting seminaries here at which the\n",
      "attitude seems to be more, \"Well, if you're *really* interested we'll give you\n",
      "a semester-long course, but we don't understand why . . .\")\n",
      "\n",
      "The pattern here at the Louisville Presbyterian Seminary is for first-year\n",
      "students to take intensive five-week introductory language courses in each\n",
      "language, followed by semester-long exegesis courses.  (That is: Hebrew in\n",
      "August, OT exegesis in the fall; Greek in January, NT exegesis in the spring.) \n",
      "These courses are required for graduation, a third or a half of the students,\n",
      "I'd say, take advanced biblical work that requires language work.\n",
      " From: morgan@socs.uts.edu.au\n",
      "Subject: Re: Prophetic Warning to New York City\n",
      "Reply-To: morgan@socs.uts.edu.au\n",
      "Organization: University of Technology Sydney\n",
      "Lines: 49\n",
      "\n",
      "In article <Apr.9.01.10.38.1993.16892@athos.rutgers.edu> evensont@spot.Colorado.EDU (EVENSON THOMAS RANDALL) writes:\n",
      ">In article <Apr.7.01.56.20.1993.22789@athos.rutgers.edu> reid@cs.uiuc.edu (Jon Reid) writes:\n",
      ">>Deon.Strydom@f7.n7104.z5.fidonet.org (Deon Strydom) writes:\n",
      ">>\n",
      ">Which brings me around to asking an open question.  Is the Bible a closed\n",
      ">book of Scripture?  Is it okay for us to go around saying \"God told\n",
      ">me this\" and \"Jesus told me that\"?  Wouldn't that imply that God is STILL\n",
      ">pouring out new revelation to us?  I know that some people will feel\n",
      ">that is okay, and some will not.  The concept of a closed canon would\n",
      ">certainly cast a shadow on contemporary prophets.  On the other hand,\n",
      ">an open canon seems to be indicated sometimes.\n",
      ">\n",
      "\n",
      "Let's get back to basics.  Canon (from the latin) means a rule.  If\n",
      "we say that a rule is open then its a rule made to be broken.  \n",
      "There is an issue also of measurement against a rule.  Thus the words\n",
      "that are spoken need to be compared against the rule/canon but not\n",
      "added to the canon.\n",
      "\n",
      "Is new revelation necessary?  Topical, current, personal revelation\n",
      "I'd say is necessary.  New revelation for all people for all times\n",
      "is not necessary as we have that in Scripture.\n",
      "\n",
      "You also seem to confuse canon with scripture.  Scripture may speak of\n",
      "itself being open - ie God speaking today.  It would speak that it is\n",
      "closed in the sense that the canon is unchangeable.  (Though the concept\n",
      "of canon is later historically.)\n",
      "\n",
      ">Also interesting to note is that some so called prophecies are nothing new\n",
      ">but rather an inspired translation of scripture.  Is it right to call\n",
      ">that prophecy?  Misleading?  Wouldn't that be more having to do with\n",
      ">knowledge?  I know, the gift of knowledge may not be as exciting to\n",
      ">talk about, but shouldn't we call a horse a horse?\n",
      ">\n",
      "\n",
      "I agree with the problem of confusion.  If prophecy is meant to encourage,\n",
      "exhort or correct then is an overlap with scripture.  If prophecy is\n",
      "meant to bring a `word' of the form \"the man you live with is not your\n",
      "husband\" then that is knowledge.  Yet the exact words their are scripture.\n",
      "I would expect the difference to be the motive and means for delivery.\n",
      "The reading of scripture itself can be a powerful force.\n",
      "\n",
      "Regards\n",
      " David\n",
      "--\n",
      "David Morgan| University of Technology Sydney | morgan@socs.uts.edu.au _--_|\\\n",
      "            | Po Box 123 Broadway NSW 2007    | Ph: + 61 2 330 1864   /      \\\n",
      "            | 15-73 Broadway Sydney           | Fax: +61 2 330 1807   \\_.--._/\n",
      "\"I paid good money to get my opinions; you get them for free\"                v\n",
      " From: 8910782@sunvax.sun.ac.za\n",
      "Subject: Rayshade query\n",
      "Article-I.D.: sunvax.1993Apr23.104107.5742\n",
      "Organization: University of Stellenbosch\n",
      "Lines: 23\n",
      "\n",
      "Hi there\n",
      "\n",
      "I am very interested in Rayshade 4.00. I have managed to make a chessboard\n",
      "for Rayshade. Unfortunately I still have to do the knight (horse). Any ideas?\n",
      "I am also looking for a surface for the chesspieces. The board is marble.\n",
      "Unfortunately black won't work very well for the one side. Anybody with ideas\n",
      "for nice surfaces?\n",
      "\n",
      "I would also like to use the image command of rayshade and the heightfield\n",
      "command. Unfortunately the manual is very vague about this, and I don't have\n",
      "Craig Kolb's email address. Anybody with ideas, because this is essential\n",
      "for my next venture into raytracing.\n",
      "\n",
      "Where should I post the finished chessboard?\n",
      "\n",
      "Is there anybody else using rayshade on non-Unix systems?\n",
      "\n",
      "How fast does Unix render?\n",
      "\n",
      "Thanks\n",
      "\n",
      "Rayshade is the best program for people who loves graphics, but have no\n",
      "artistic talent.\n",
      " From:  (Rashid)\n",
      "Subject: Re: Yet more Rushdie [Re: ISLAMIC LAW]\n",
      "Nntp-Posting-Host: 47.252.4.179\n",
      "Organization: NH\n",
      "Lines: 76\n",
      "\n",
      "In article <1993Apr14.131032.15644@monu6.cc.monash.edu.au>,\n",
      "darice@yoyo.cc.monash.edu.au (Fred Rice) wrote:\n",
      "> \n",
      "> It is my understanding that it is generally agreed upon by the ulema\n",
      "> [Islamic scholars] that Islamic law applies only in an Islamic country,\n",
      "> of which the UK is not.  Furthermore, to take the law into one's own\n",
      "> hands is a criminal act, as these are matters for the state, not for\n",
      "> individuals.  Nevertheless, Khomeini offered a cash prize for people to\n",
      "> take the law into their own hands -- something which, to my\n",
      "> understanding, is against Islamic law.\n",
      "\n",
      "Yes, this is also my understanding of the majority of Islamic laws.\n",
      "However, I believe there are also certain legal rulings which, in all\n",
      "five schools of law (4 sunni and 1 jaffari), can be levelled against\n",
      "muslim or non-muslims, both within and outside dar-al-islam. I do\n",
      "not know if apostasy (when accompanied by active, persistent, and\n",
      "open hostility to Islam) falls into this category of the law. I do know\n",
      "that\n",
      "historically, apostasy has very rarely been punished at all, let alone\n",
      "by the death penalty.\n",
      "\n",
      "My understanding is that Khomeini's ruling was not based on the\n",
      "law of apostasy (alone). It was well known that Rushdie was an apostate\n",
      "long before he wrote the offending novel and certainly there is no\n",
      "precedent in the Qur'an, hadith, or in Islamic history for indiscriminantly\n",
      "levelling death penalties for apostasy.\n",
      "\n",
      "I believe the charge levelled against Rushdie was that of \"fasad\". This\n",
      "ruling applies both within and outside the domain of an\n",
      "Islamic state and it can be carried out by individuals. The reward was\n",
      "not offered by Khomeini but by individuals within Iran.\n",
      "\n",
      "\n",
      "> Stuff deleted\n",
      "> Also, I think you are muddying the issue as you seem to assume that\n",
      "> Khomeini's fatwa was issued due to the _distribution_ of the book.  My\n",
      "> understanding is that Khomeini's fatwa was issued in response to the\n",
      "> _writing_ and _publishing_ of the book.  If my view is correct, then\n",
      "> your viewpoint that Rushdie was sentenced for a \"crime in progress\" is\n",
      "> incorrect.\n",
      "> \n",
      "I would concur that the thrust of the fatwa (from what I remember) was\n",
      "levelled at the author and all those who assisted in the publication\n",
      "of the book. However, the charge of \"fasad\" can encompass a\n",
      "number of lesser charges. I remember that when diplomatic relations\n",
      "broke off between Britain and Iran over the fatwa - Iran stressed that\n",
      "the condemnation of the author, and the removal of the book from\n",
      "circulation were two preliminary conditions for resolving the\n",
      "\"crisis\". But you are correct to point out that banning the book was not\n",
      "the main thrust behind the fatwa. Islamic charges such as fasad are\n",
      "levelled at people, not books.\n",
      "\n",
      "The Rushdie situation was followed in Iran for several months before the\n",
      "issuance of the fatwa. Rushdie went on a media blitz,\n",
      "presenting himself as a lone knight guarding the sacred values of\n",
      "secular democracy and mocking the foolish concerns of people\n",
      "crazy enough to actually hold their religious beliefs as sacred. \n",
      "Fanning the flames and milking the controversy to boost\n",
      "his image and push the book, he was everywhere in the media. Then\n",
      "Muslim demonstrators in several countries were killed while\n",
      "protesting against the book. Rushdie appeared momentarily\n",
      "concerned, then climbed back on his media horse to once again\n",
      "attack the Muslims and defend his sacred rights. It was at this\n",
      "point that the fatwa on \"fasad\" was issued.\n",
      "\n",
      "The fatwa was levelled at the person of Rushdie - any actions of\n",
      "Rushdie that feed the situation contribute to the legitimization of\n",
      "the ruling. The book remains in circulation not by some independant\n",
      "will of its own but by the will of the author and the publishers. The fatwa\n",
      "against the person of Rushdie encompasses his actions as well. The\n",
      "crime was certainly a crime in progress (at many levels) and was being\n",
      "played out (and played up) in the the full view of the media.\n",
      "\n",
      "P.S. I'm not sure about this but I think the charge of \"shatim\" also\n",
      "applies to Rushdie and may be encompassed under the umbrella\n",
      "of the \"fasad\" ruling.\n",
      " From: reid@cs.uiuc.edu (Jon Reid)\n",
      "Subject: Re: Prophetic Warning to New York City\n",
      "Organization: University of Illinois, Dept. of Comp. Sci., Urbana, IL\n",
      "Lines: 66\n",
      "\n",
      "evensont@spot.Colorado.EDU (EVENSON THOMAS RANDALL) writes:\n",
      "\n",
      ">Yes, I suppose it is true that people make mistakes.  It is interesting to\n",
      ">note that in those long ago OT days, if you weren't 100% correct in\n",
      ">your prophecies, people got very mad and you were no longer believed,\n",
      ">even put to death.\n",
      "\n",
      "This is one of the differences between OT prophecy and NT prophecy.  In the\n",
      "NT, it is expected that when believers gather,\n",
      "  - people will prophesy\n",
      "  - the prophecy must be judged (1 Cor 14:29)\n",
      "There is nothing about killing someone who makes a mistake.\n",
      "\n",
      ">To say that we make mistakes is true.  To say that we make mistakes\n",
      ">while filled with the spirit is not true.  Were that true, the entire\n",
      ">Bible, having been written by men inspired by God would be subject also\n",
      ">to those errors, for what is prophecy but like those revelations given\n",
      ">in scripture?\n",
      "\n",
      "Scripture is scripture; there is no \"gift of scripture\".  And I don't know\n",
      "about you, but I know that _I_ have made mistakes while filled with the\n",
      "spirit.  If you don't give grace to allow people to make mistakes, they\n",
      "will never grow in the use of the spiritual gifts!\n",
      "\n",
      "When we minister in my small group, I encourage people to speak out any\n",
      "impressions or images they think might be from the Lord.  Only by trying\n",
      "will they know whether they were right or wrong -- and in either case,\n",
      "they'll have a better handle on it the next time.\n",
      "\n",
      "Didn't you fall when you were learning to ride a bicycle?  But you kept on\n",
      "trying, and you learned both from your failures and your successes.\n",
      "Spiritual gifts are no different -- you get better with experience.\n",
      "\n",
      ">Which brings me around to asking an open question.  Is the Bible a closed\n",
      ">book of Scripture?  Is it okay for us to go around saying \"God told\n",
      ">me this\" and \"Jesus told me that\"?  Wouldn't that imply that God is STILL\n",
      ">pouring out new revelation to us?  I know that some people will feel\n",
      ">that is okay, and some will not.  The concept of a closed canon would\n",
      ">certainly cast a shadow on contemporary prophets.  On the other hand,\n",
      ">an open canon seems to be indicated sometimes.\n",
      "\n",
      "The canon of Scripture is complete.  Does this mean that God no longer\n",
      "speaks?  I have heard his voice -- not audibly (though some have), but\n",
      "clearly nonetheless.  Is what I heard equivalent to Scripture?  No.  I have\n",
      "never heard contemporary prophets claim that what they receive from the\n",
      "Lord is on the same level as Scripture; on the contrary, those who are\n",
      "mature obey the Scriptures by submitting their prophecies to fellow\n",
      "believers for judgement.  And the most reliable yardstick for judging\n",
      "prophecies is, certainly, the Scriptures themselves.  The canon is closed\n",
      "-- but God is not silent!\n",
      "\n",
      ">Also interesting to note is that some so called prophecies are nothing new\n",
      ">but rather an inspired translation of scripture.  Is it right to call\n",
      ">that prophecy?  Misleading?  Wouldn't that be more having to do with\n",
      ">knowledge?  I know, the gift of knowledge may not be as exciting to\n",
      ">talk about, but shouldn't we call a horse a horse?\n",
      "\n",
      "Does it matter what it is called?  The question is not how to label it, but\n",
      "how to receive it.  Words of knowledge, incidentally, are similar to\n",
      "prophecy (and sometimes the two overlap), but generally it is supernatural\n",
      "knowledge of some fact that could not be known otherwise.\n",
      "-- \n",
      "******************************************************************\n",
      "*     Jon Reid     * He is no fool who gives what he cannot keep *\n",
      "* reid@cs.uiuc.edu * to gain what he cannot lose.   - Jim Elliot *\n",
      "******************************************************************\n",
      "\n"
     ]
    }
   ],
   "source": [
    "doc_matrix = np.array(twenty_train.data)\n",
    "print(*doc_matrix[horses[0]])"
   ]
  },
  {
   "cell_type": "markdown",
   "metadata": {},
   "source": [
    "### Using TF-IDF instead of counts\n",
    "\n",
    "TF-IDF can help address two problems: one, it normalises over varying document lengths (so that a long document that mentions something in passing is not considered equivalent to a very short, focussed doument); and two, it down-weights words that appear in a large number of documents.  "
   ]
  },
  {
   "cell_type": "code",
   "execution_count": 93,
   "metadata": {
    "collapsed": false
   },
   "outputs": [
    {
     "data": {
      "text/plain": [
       "(2257, 18484)"
      ]
     },
     "execution_count": 93,
     "metadata": {},
     "output_type": "execute_result"
    }
   ],
   "source": [
    "from sklearn.feature_extraction.text import TfidfTransformer\n",
    "\n",
    "tfidf_transformer = TfidfTransformer()\n",
    "X_train_tfidf = tfidf_transformer.fit_transform(X_train_counts_tfidf)\n",
    "X_train_tfidf.shape"
   ]
  },
  {
   "cell_type": "markdown",
   "metadata": {},
   "source": [
    "The two steps, `fit` and `transform`, can be separated out.  I suppose this is useful if you want to use a vocabulary from a larger corpus when training on a smaller one.  \n",
    "\n",
    "Another class, `TfidfVectorizer`, combines the `countVectorizer` with `TfidfTransformation` into a single step."
   ]
  },
  {
   "cell_type": "code",
   "execution_count": 94,
   "metadata": {
    "collapsed": false
   },
   "outputs": [
    {
     "data": {
      "text/plain": [
       "(2257, 18484)"
      ]
     },
     "execution_count": 94,
     "metadata": {},
     "output_type": "execute_result"
    }
   ],
   "source": [
    "from sklearn.feature_extraction.text import TfidfVectorizer\n",
    "\n",
    "tfidf_vectorizer = TfidfVectorizer(max_df = 0.8,\n",
    "                                   min_df = 2)\n",
    "X_train_tfidf = tfidf_vectorizer.fit_transform(twenty_train.data)\n",
    "X_train_tfidf.shape"
   ]
  },
  {
   "cell_type": "markdown",
   "metadata": {},
   "source": [
    "## Training a classifier\n",
    "\n",
    "The variant of naive Bayes most suitable for word counts is `MultiNomialNB`."
   ]
  },
  {
   "cell_type": "code",
   "execution_count": 99,
   "metadata": {
    "collapsed": true
   },
   "outputs": [],
   "source": [
    "from sklearn.naive_bayes import MultinomialNB\n",
    "\n",
    "clf_count = MultinomialNB().fit(X_train_counts, twenty_train.target)"
   ]
  },
  {
   "cell_type": "markdown",
   "metadata": {},
   "source": [
    "To classify a new document we have to transform it in the same way as the training set, but without fitting. "
   ]
  },
  {
   "cell_type": "code",
   "execution_count": 106,
   "metadata": {
    "collapsed": true
   },
   "outputs": [],
   "source": [
    "new_docs = ['God is love',\n",
    "            'OpenGL on the GOU is fast',\n",
    "            'Faith and dogma are barriers to progress']"
   ]
  },
  {
   "cell_type": "code",
   "execution_count": 100,
   "metadata": {
    "collapsed": true
   },
   "outputs": [],
   "source": [
    "X_new_counts = count_vect.transform(new_docs)\n",
    "pred_count = clf_count.predict(X_new_counts)"
   ]
  },
  {
   "cell_type": "code",
   "execution_count": 107,
   "metadata": {
    "collapsed": false
   },
   "outputs": [
    {
     "name": "stdout",
     "output_type": "stream",
     "text": [
      "'God is love' => soc.religion.christian\n",
      "'OpenGL on the GOU is fast' => comp.graphics\n",
      "'Faith and dogma are barriers to progress' => soc.religion.christian\n"
     ]
    }
   ],
   "source": [
    "for doc, cat in zip(new_docs, pred_count):\n",
    "    print(\"'{}' => {}\".format(doc, twenty_train.target_names[cat]))"
   ]
  },
  {
   "cell_type": "code",
   "execution_count": null,
   "metadata": {
    "collapsed": true
   },
   "outputs": [],
   "source": []
  }
 ],
 "metadata": {
  "kernelspec": {
   "display_name": "Python 3",
   "language": "python",
   "name": "python3"
  },
  "language_info": {
   "codemirror_mode": {
    "name": "ipython",
    "version": 3
   },
   "file_extension": ".py",
   "mimetype": "text/x-python",
   "name": "python",
   "nbconvert_exporter": "python",
   "pygments_lexer": "ipython3",
   "version": "3.5.1"
  }
 },
 "nbformat": 4,
 "nbformat_minor": 0
}
